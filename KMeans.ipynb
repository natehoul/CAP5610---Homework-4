{
 "cells": [
  {
   "cell_type": "code",
   "execution_count": null,
   "id": "4a0ac583",
   "metadata": {},
   "outputs": [],
   "source": [
    "import numpy as np\n",
    "import math\n",
    "from sklearn.model_selection import train_test_split\n",
    "from scipy.spatial.distance import cdist\n",
    "from statistics import mode"
   ]
  },
  {
   "cell_type": "code",
   "execution_count": 36,
   "id": "d9d4a8a3",
   "metadata": {},
   "outputs": [],
   "source": [
    "def sse(distances):\n",
    "    return np.power(distances, 2).sum()\n",
    "\n",
    "def euclidean(a, b):\n",
    "#     FASTER\n",
    "#     return cdist(a, b, 'euclidean')\n",
    "    output = []\n",
    "    for i in a:\n",
    "        output_inner = []\n",
    "        for j in b:\n",
    "            sub = np.subtract(i, j)\n",
    "            sqr = np.power(sub, 2)\n",
    "            s = sqr.sum()\n",
    "            output_inner.append(math.sqrt(s))\n",
    "        output.append(output_inner)\n",
    "    return np.array(output)\n",
    "        \n",
    "def cosine(a, b):\n",
    "#     FASTER\n",
    "#     return cdist(a, b, 'cosine')\n",
    "    output = []\n",
    "    for i in a:\n",
    "        output_inner = []\n",
    "        for j in b:\n",
    "            num = np.dot(i, j)\n",
    "            den = (np.linalg.norm(i) * np.linalg.norm(j))\n",
    "            \n",
    "            output_inner.append(1 - num / den)\n",
    "        output.append(output_inner)\n",
    "    return np.array(output)\n",
    "\n",
    "def jaccard(a, b):\n",
    "#     FASTER\n",
    "#     return cdist(a, b, 'jaccard')\n",
    "    output = []\n",
    "    for i in a:\n",
    "        output_inner = []\n",
    "        for j in b:\n",
    "            num = np.minimum(i, j).sum()\n",
    "            den = np.maximum(i, j).sum()\n",
    "            output_inner.append(1 - num / den)\n",
    "        output.append(output_inner)\n",
    "    return np.array(output)"
   ]
  },
  {
   "cell_type": "code",
   "execution_count": 34,
   "id": "7f9d2a64",
   "metadata": {},
   "outputs": [],
   "source": [
    "def kmeans(X, k, function, stop_at_centroids_same=False, stop_at_sse_greater=False, max_iter=100):\n",
    "    idx = np.random.choice(len(X), k, replace=False)\n",
    "\n",
    "    midpoints = X[idx, :]\n",
    "    dist = function(X, midpoints)\n",
    "    clusters = np.array([np.argmin(i) for i in dist])\n",
    "    distance_to_clusters = np.array([np.min(i) for i in dist])\n",
    "    \n",
    "    _sse = sse(distance_to_clusters)\n",
    "    \n",
    "    early_exit = -1\n",
    "    \n",
    "    for i in range(max_iter): \n",
    "        new_midpoints = []\n",
    "        for idx in range(k):\n",
    "            temp_mid = X[clusters==idx].mean(axis=0) \n",
    "            new_midpoints.append(temp_mid)\n",
    " \n",
    "        new_midpoints = np.vstack(new_midpoints) \n",
    "        \n",
    "        if stop_at_centroids_same and (new_midpoints == midpoints).all():\n",
    "            early_exit = i+1\n",
    "            break\n",
    "        \n",
    "        midpoints = new_midpoints\n",
    "        dist = function(X, midpoints)\n",
    "        distance_to_clusters = np.array([np.min(i) for i in dist])\n",
    "        new_sse = sse(distance_to_clusters)\n",
    "        \n",
    "        if stop_at_sse_greater and new_sse > _sse:\n",
    "            early_exit = i+1\n",
    "            break\n",
    "            \n",
    "        _sse = new_sse\n",
    "        \n",
    "        clusters = np.array([np.argmin(i) for i in dist])\n",
    "    \n",
    "#     if early_exit < 0:\n",
    "#         print(max_iter)\n",
    "#     else:\n",
    "#         print(early_exit)\n",
    "    \n",
    "    return clusters, _sse, (early_exit if early_exit > 0 else max_iter)"
   ]
  },
  {
   "cell_type": "code",
   "execution_count": 21,
   "id": "b05da7fb",
   "metadata": {},
   "outputs": [],
   "source": [
    "import pandas as pd\n",
    "X = pd.read_csv('/Users/nate/Downloads/hw4_kmeans_data/data.csv', header=None).values\n",
    "y = pd.read_csv('/Users/nate/Downloads/hw4_kmeans_data/label.csv', header=None)\n",
    "\n",
    "k = len(y[0].unique())\n",
    "\n",
    "y = y.values\n",
    "\n",
    "X_train, X_test, y_train, y_test = train_test_split(X, y, test_size=0.5)\n",
    "\n",
    "output_euclidean, euc_sse, _ = kmeans(X_train, k, euclidean, stop_at_centroids_same=True, stop_at_sse_greater=True)\n",
    "output_cosine, cos_sse, _ = kmeans(X_train, k, cosine, stop_at_centroids_same=True, stop_at_sse_greater=True)\n",
    "output_jaccard, jac_sse, _ = kmeans(X_train, k, jaccard, stop_at_centroids_same=True, stop_at_sse_greater=True)"
   ]
  },
  {
   "cell_type": "code",
   "execution_count": 22,
   "id": "1a0cf006",
   "metadata": {},
   "outputs": [
    {
     "name": "stdout",
     "output_type": "stream",
     "text": [
      "12725406952.078806\n",
      "346.36131784121073\n",
      "4384.295878999801\n"
     ]
    }
   ],
   "source": [
    "# Q1\n",
    "\n",
    "print(euc_sse)\n",
    "print(cos_sse)\n",
    "print(jac_sse)"
   ]
  },
  {
   "cell_type": "code",
   "execution_count": 23,
   "id": "fe17cd84",
   "metadata": {},
   "outputs": [],
   "source": [
    "output_euclidean, euc_sse, _ = kmeans(X_train, k, euclidean, stop_at_centroids_same=True, stop_at_sse_greater=True)\n",
    "output_cosine, cos_sse, _ = kmeans(X_train, k, cosine, stop_at_centroids_same=True, stop_at_sse_greater=True)\n",
    "output_jaccard, jac_sse, _ = kmeans(X_train, k, jaccard, stop_at_centroids_same=True, stop_at_sse_greater=True)"
   ]
  },
  {
   "cell_type": "code",
   "execution_count": 33,
   "id": "d25f579d",
   "metadata": {},
   "outputs": [
    {
     "name": "stdout",
     "output_type": "stream",
     "text": [
      "Euclidean\n",
      "0.214\n",
      "Cosine\n",
      "0.1832\n",
      "Jaccard:\n",
      "0.047\n"
     ]
    }
   ],
   "source": [
    "# Q2\n",
    "\n",
    "label_votes_euclidean = [[] for i in range(len(output_euclidean))]\n",
    "label_votes_cosine = [[] for i in range(len(output_cosine))]\n",
    "label_votes_jaccard = [[] for i in range(len(output_jaccard))]\n",
    "\n",
    "labels_euclidean = []\n",
    "labels_cosine = []\n",
    "labels_jaccard = []\n",
    "\n",
    "for i in range(10):\n",
    "    output_euclidean, euc_sse, _ = kmeans(X_train, k, euclidean, stop_at_centroids_same=True, stop_at_sse_greater=True)\n",
    "    for j in range(len(output_euclidean)):\n",
    "        label_votes_euclidean[j].append(output_euclidean[j])\n",
    "        \n",
    "for i in range(len(label_votes_euclidean)):\n",
    "    labels_euclidean.append(mode(np.array(label_votes_euclidean[i])))\n",
    "\n",
    "for i in range(10):\n",
    "    output_cosine, cos_sse, _ = kmeans(X_train, k, cosine, stop_at_centroids_same=True, stop_at_sse_greater=True)\n",
    "    for j in range(len(output_cosine)):\n",
    "        label_votes_cosine[j].append(output_cosine[j])\n",
    "        \n",
    "for i in range(len(label_votes_cosine)):\n",
    "    labels_cosine.append(mode(np.array(label_votes_cosine[i])))\n",
    "    \n",
    "for i in range(10):\n",
    "    output_jaccard, jac_sse, _ = kmeans(X_train, k, jaccard, stop_at_centroids_same=True, stop_at_sse_greater=True)\n",
    "    for j in range(len(output_jaccard)):\n",
    "        label_votes_jaccard[j].append(output_jaccard[j])\n",
    "        \n",
    "for i in range(len(label_votes_jaccard)):\n",
    "    labels_jaccard.append(mode(np.array(label_votes_jaccard[i])))\n",
    "    \n",
    "output_euclidean, _ = kmeans(X_train, k, euclidean, stop_at_centroids_same=True, stop_at_sse_greater=True)\n",
    "output_cosine, _ = kmeans(X_train, k, cosine, stop_at_centroids_same=True, stop_at_sse_greater=True)\n",
    "output_jaccard, _ = kmeans(X_train, k, jaccard, stop_at_centroids_same=True, stop_at_sse_greater=True)\n",
    "\n",
    "accuracy_euclidean = 0\n",
    "accuracy_cosine = 0\n",
    "accuracy_jaccard = 0\n",
    "\n",
    "for i in range(len(output_euclidean)):\n",
    "    if output_euclidean[i] == labels_euclidean[i]:\n",
    "        accuracy_euclidean += 1\n",
    "print('Euclidean')\n",
    "print(accuracy_euclidean / len(output_euclidean))\n",
    "\n",
    "for i in range(len(output_cosine)):\n",
    "    if output_cosine[i] == labels_cosine[i]:\n",
    "        accuracy_cosine += 1\n",
    "print('Cosine')\n",
    "print(accuracy_cosine / len(output_cosine))\n",
    "\n",
    "for i in range(len(output_jaccard)):\n",
    "    if output_jaccard[i] == labels_jaccard[i]:\n",
    "        accuracy_jaccard += 1\n",
    "print('Jaccard:')\n",
    "print(accuracy_jaccard / len(output_jaccard))"
   ]
  },
  {
   "cell_type": "code",
   "execution_count": 37,
   "id": "1457b9e3",
   "metadata": {},
   "outputs": [
    {
     "name": "stdout",
     "output_type": "stream",
     "text": [
      "81\n",
      "39\n",
      "1\n"
     ]
    }
   ],
   "source": [
    "# Q3\n",
    "\n",
    "_, _, iter_euclidean = kmeans(X, k, euclidean, stop_at_centroids_same=True, stop_at_sse_greater=True, max_iter=100)\n",
    "_, _, iter_cosine = kmeans(X, k, cosine, stop_at_centroids_same=True, stop_at_sse_greater=True, max_iter=100)\n",
    "_, _, iter_jaccard = kmeans(X, k, jaccard, stop_at_centroids_same=True, stop_at_sse_greater=True, max_iter=100)\n",
    "\n",
    "print(iter_euclidean)\n",
    "print(iter_cosine)\n",
    "print(iter_jaccard)"
   ]
  },
  {
   "cell_type": "code",
   "execution_count": null,
   "id": "c4a31786",
   "metadata": {},
   "outputs": [
    {
     "name": "stderr",
     "output_type": "stream",
     "text": [
      "/var/folders/95/b692db711rb_1p62sdl_s1000000gn/T/ipykernel_802/1937459693.py:16: RuntimeWarning: Mean of empty slice.\n",
      "  temp_mid = X[clusters==idx].mean(axis=0)\n"
     ]
    },
    {
     "name": "stdout",
     "output_type": "stream",
     "text": [
      "CENTROID: \n",
      "12742383100.277157\n",
      "341.2212853503983\n",
      "5000.0\n",
      "\n",
      "SSE: \n",
      "12812216123.763365\n",
      "342.08222951120297\n",
      "4416.146294118418\n"
     ]
    }
   ],
   "source": [
    "# Q4\n",
    "# SSE Comparison\n",
    "\n",
    "# centroid\n",
    "output_euclidean, euc_sse, _ = kmeans(X_train, k, euclidean, stop_at_centroids_same=True)\n",
    "output_cosine, cos_sse, _ = kmeans(X_train, k, cosine, stop_at_centroids_same=True)\n",
    "output_jaccard, jac_sse, _ = kmeans(X_train, k, jaccard, stop_at_centroids_same=True)\n",
    "print('CENTROID: ')\n",
    "print(euc_sse)\n",
    "print(cos_sse)\n",
    "print(jac_sse)\n",
    "\n",
    "# sse increase\n",
    "output_euclidean, euc_sse, _ = kmeans(X_train, k, euclidean, stop_at_sse_greater=True)\n",
    "output_cosine, cos_sse, _ = kmeans(X_train, k, cosine, stop_at_sse_greater=True)\n",
    "output_jaccard, jac_sse, _ = kmeans(X_train, k, jaccard, stop_at_sse_greater=True)\n",
    "print('\\nSSE: ')\n",
    "print(euc_sse)\n",
    "print(cos_sse)\n",
    "print(jac_sse)\n",
    "\n",
    "# max iterations\n",
    "output_euclidean, euc_sse, _ = kmeans(X_train, k, euclidean)\n",
    "output_cosine, cos_sse, _ = kmeans(X_train, k, cosine)\n",
    "output_jaccard, jac_sse, _ = kmeans(X_train, k, jaccard)\n",
    "print('\\nMAX ITERATIONS')\n",
    "print(euc_sse)\n",
    "print(cos_sse)\n",
    "print(jac_sse)"
   ]
  },
  {
   "cell_type": "code",
   "execution_count": null,
   "id": "2c2b020e",
   "metadata": {},
   "outputs": [],
   "source": []
  }
 ],
 "metadata": {
  "kernelspec": {
   "display_name": "Python 3 (ipykernel)",
   "language": "python",
   "name": "python3"
  },
  "language_info": {
   "codemirror_mode": {
    "name": "ipython",
    "version": 3
   },
   "file_extension": ".py",
   "mimetype": "text/x-python",
   "name": "python",
   "nbconvert_exporter": "python",
   "pygments_lexer": "ipython3",
   "version": "3.8.1"
  }
 },
 "nbformat": 4,
 "nbformat_minor": 5
}
